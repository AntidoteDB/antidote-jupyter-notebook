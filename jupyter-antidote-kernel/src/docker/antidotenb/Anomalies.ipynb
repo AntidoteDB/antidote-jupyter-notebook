{
  "cells": [
    {
      "cell_type": "markdown",
      "metadata": {},
      "source": [
        "# Observing Anomalies"
      ]
    },
    {
      "cell_type": "markdown",
      "metadata": {},
      "source": [
        "In this section, we will see how eventually consistent data stores behave when updates are done on disconnected replicas.\n We will demonstrate this by using two replicated Antidote nodes: replica 1 and replica 2. By default, this notebook connects to replica 1."
      ]
    },
    {
      "cell_type": "markdown",
      "metadata": {},
      "source": [
        "<img src=\"images/Antidote-Notebook-diagram.png\">"
      ]
    },
    {
      "cell_type": "markdown",
      "metadata": {},
      "source": [
        "We first create a Kanban board on replica 1."
      ]
    },
    {
      "cell_type": "code",
      "execution_count": null,
      "metadata": {},
      "outputs": [],
      "source": [
        "switchAntidote(1)\n",
        "b = createboard(\"b\")\n",
        "c1 = addcolumn(b,\"planned\"),\n",
        "c2 = addcolumn(b,\"done\"),\n",
        "t1 = createtask(c1,\"Slides\")\n",
        "read(b)"
      ]
    },
    {
      "cell_type": "markdown",
      "metadata": {},
      "source": [
        "The two replicas are currently connected. Any updates to either one of them will be replicated to the other one. Now, we switch to replica 2 to see if the board is there available."
      ]
    },
    {
      "cell_type": "code",
      "execution_count": null,
      "metadata": {},
      "outputs": [],
      "source": [
        "switchAntidote(2)"
      ]
    },
    {
      "cell_type": "code",
      "execution_count": null,
      "metadata": {},
      "outputs": [],
      "source": [
        "read(b)"
      ]
    },
    {
      "cell_type": "markdown",
      "metadata": {},
      "source": [
        "## Classical Conflict-Resolution"
      ]
    },
    {
      "cell_type": "markdown",
      "metadata": {},
      "source": [
        "## Inconsistency resolution"
      ]
    },
    {
      "cell_type": "markdown",
      "metadata": {},
      "source": [
        "### Last-writer-wins"
      ]
    },
    {
      "cell_type": "markdown",
      "metadata": {},
      "source": [
        "If there are multiple updates while Antidote nodes are disconnected, the final value of the object will be the value updated at the last timestamp. The Last-writer-wins register uses this mechanism."
      ]
    },
    {
      "cell_type": "markdown",
      "metadata": {},
      "source": [
        "We first create a Last-Writer-Wins register (LWW) key when both Antidote nodes are connected."
      ]
    },
    {
      "cell_type": "code",
      "execution_count": null,
      "metadata": {},
      "outputs": [],
      "source": [
        "connectAntidotes()\n",
        "lww_key = getLWWRegisterKey(\"lww1\")\n",
        "applyUpdate(assignLWWRegister(lww_key, \"A\"))\n",
        "read(lww_key)"
      ]
    },
    {
      "cell_type": "markdown",
      "metadata": {},
      "source": [
        "Next, we disconnect the nodes to see how Antidote handles inconsistencies."
      ]
    },
    {
      "cell_type": "code",
      "execution_count": null,
      "metadata": {},
      "outputs": [],
      "source": [
        "disconnectAntidotes()"
      ]
    },
    {
      "cell_type": "markdown",
      "metadata": {},
      "source": [
        "`disconnectAntidotes()` and `connectAntidotes()` simulates a disconnection and connection between the 2 Antidote nodes. <img src=\"images/Antidote-Notebook-diagram-disconnected.png\">"
      ]
    },
    {
      "cell_type": "code",
      "execution_count": null,
      "metadata": {},
      "outputs": [],
      "source": [
        "switchAntidote(1)\n",
        "applyUpdate(assignLWWRegister(lww_key, \"B\"))\n",
        "read(lww_key)"
      ]
    },
    {
      "cell_type": "code",
      "execution_count": null,
      "metadata": {},
      "outputs": [],
      "source": [
        "switchAntidote(2)\n",
        "applyUpdate(assignLWWRegister(lww_key, \"C\"))\n",
        "read(lww_key)"
      ]
    },
    {
      "cell_type": "markdown",
      "metadata": {},
      "source": [
        "While `Antidote1` and `Antidote2` are disconnected, key `lww1` was updated differently. This causes an inconsistency to key `lww1`."
      ]
    },
    {
      "cell_type": "code",
      "execution_count": null,
      "metadata": {},
      "outputs": [],
      "source": [
        "connectAntidotes()"
      ]
    },
    {
      "cell_type": "markdown",
      "metadata": {},
      "source": [
        "After re-connecting, Antidote resolves the inconsistencies applying the LWW scheme. The expected value stored in key `lww1` is `\"C\"` since it is the last update performed on key `lww1`."
      ]
    },
    {
      "cell_type": "code",
      "execution_count": null,
      "metadata": {},
      "outputs": [],
      "source": [
        "switchAntidote(1)\n",
        "read(lww_key)"
      ]
    },
    {
      "cell_type": "markdown",
      "metadata": {
        "collapsed": true
      },
      "source": [
        "### Multi-value"
      ]
    },
    {
      "cell_type": "markdown",
      "metadata": {},
      "source": [
        "If there are multiple updates while Antidote nodes are disconnected, all of the last updates on different Antidote nodes will be included the final values. The multi-value uses this mechanism. The final list is ordered in alphabetical order. In its initial state, reading the register returns the empty list."
      ]
    },
    {
      "cell_type": "code",
      "execution_count": null,
      "metadata": {},
      "outputs": [],
      "source": [
        "connectAntidotes()\n",
        "mv_key = getMVRegisterKey(\"mv1\")\n",
        "applyUpdate(assignMVRegister(mv_key, \"A\"))\n",
        "read(mv_key)"
      ]
    },
    {
      "cell_type": "code",
      "execution_count": null,
      "metadata": {},
      "outputs": [],
      "source": [
        "disconnectAntidotes()"
      ]
    },
    {
      "cell_type": "code",
      "execution_count": null,
      "metadata": {},
      "outputs": [],
      "source": [
        "switchAntidote(1)\n",
        "applyUpdate(assignMVRegister(mv_key, \"B\"))"
      ]
    },
    {
      "cell_type": "code",
      "execution_count": null,
      "metadata": {},
      "outputs": [],
      "source": [
        "switchAntidote(2)\n",
        "applyUpdate(assignMVRegister(mv_key, \"C\"))\n",
        "applyUpdate(assignMVRegister(mv_key, \"D\"))"
      ]
    },
    {
      "cell_type": "code",
      "execution_count": null,
      "metadata": {},
      "outputs": [],
      "source": [
        "connectAntidotes()"
      ]
    },
    {
      "cell_type": "markdown",
      "metadata": {},
      "source": [
        "The expected values stored on key mv1 is `[\"B\",\"D\"]` since both were the last update on different Antidote nodes during disconnection."
      ]
    },
    {
      "cell_type": "code",
      "execution_count": null,
      "metadata": {},
      "outputs": [],
      "source": [
        "switchAntidote(1)\n",
        "read(mv_key)"
      ]
    },
    {
      "cell_type": "code",
      "execution_count": null,
      "metadata": {},
      "outputs": [],
      "source": []
    }
  ],
  "metadata": {
    "kernelspec": {
      "display_name": "Antidote",
      "language": "groovy",
      "name": "antidote"
    },
    "language_info": {
      "codemirror_mode": "",
      "file_extension": ".anb",
      "mimetype": "",
      "name": "Antidote",
      "nbconverter_exporter": "",
      "pygments_lexer": "",
      "version": "0.1.0"
    }
  },
  "nbformat": 4,
  "nbformat_minor": 2
}
