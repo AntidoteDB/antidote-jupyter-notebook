{
 "cells": [
  {
   "cell_type": "markdown",
   "metadata": {},
   "source": [
    "# Conflict-Free Replicated Datatypes"
   ]
  },
  {
      "cell_type": "markdown",
      "metadata": {
        "collapsed": true
      },
      "source": [
        "In this tutorial, you will be introduced to Antidote Databases. You can test and see how an eventually consistent database works. We will guide you through the Antidote CRDT data types, transactions, and how Antidote resolves inconsistencies. For more information, see http://syncfree.github.io/antidote/.\n",
        "\n",
        "> Note that this Jupyter notebook is based on Antidote Java API, but it is tailored for tutorial purpose. As a result, this tutorial might not reflect the full capabilities of Antidote. To find out how to use the Java API, please refer to the __[official Antidote Java API](https://www.javadoc.io/doc/eu.antidotedb/antidote-java-client/0.1.0)__."
      ]
    },
    {
      "cell_type": "markdown",
      "metadata": {},
      "source": [
        "First of all, you need to make sure that Antidote service is up and running."
      ]
    },
    {
      "cell_type": "code",
      "execution_count": null,
      "metadata": {},
      "outputs": [],
      "source": [
        "init()"
      ]
    },
    {
      "cell_type": "markdown",
      "metadata": {},
      "source": [
        "# Data types in Antidote"
      ]
    },
    {
      "cell_type": "markdown",
      "metadata": {},
      "source": [
        "Antidote supports several Conflict-free replicated data types (CRDT). Each type handles inconsistencies differently. In this section, we show some examples of how you can use these data types. The data types supported by Antidote include:\n",
        "- __Number types__\n",
        "    - Counter\n",
        "- __Registers__\n",
        "    - Last-writer wins register\n",
        "    - Multi-value register\n",
        "- __Sets__\n",
        "    - Add-wins set (or Observed-remove set)\n",
        "    - Remove-win set\n",
        "- __Maps__\n",
        "    - Grow-only map\n",
        "    - Remove-resets map"
      ]
    },
    {
      "cell_type": "markdown",
      "metadata": {},
      "source": [
        "You need a key in order to update/remove/reset/read your data object in an Antidote bucket. A bucket is an internal data structure used by Antidote where objects are stored. In this tutorial, we have one bucket which uses a unique session id as its key. An object key should be unique within the bucket, regardless of data types."
      ]
    },
    {
      "cell_type": "markdown",
      "metadata": {},
      "source": [
        "### Counters"
      ]
    },
    {
      "cell_type": "markdown",
      "metadata": {},
      "source": [
        "The simplest CRDT is probably a Counter. First, we need to create a key for our counter object. We use `\"c1\"` as a unique key for accessing this Counter object. `getCounterKey(\"c1\")` returns a Counter Key object with key `\"c1\"`. We assign this Counter Key object to `counter_key` for an easy reference to our `\"c1\"` key later on."
      ]
    },
    {
      "cell_type": "code",
      "execution_count": null,
      "metadata": {},
      "outputs": [],
      "source": [
        "counter_key = getCounterKey(\"c1\")"
      ]
    },
    {
      "cell_type": "markdown",
      "metadata": {},
      "source": [
        "Counter is simply an integer object with an increment and decrement operation. The initial value of a counter is 0. Let's try incrementing our `c1` counter by 10, and decrementing it by 1."
      ]
    },
    {
      "cell_type": "code",
      "execution_count": null,
      "metadata": {},
      "outputs": [],
      "source": [
        "applyUpdate(incrementCounter(counter_key, 10))\n",
        "applyUpdate(incrementCounter(counter_key, -1))"
      ]
    },
    {
      "cell_type": "markdown",
      "metadata": {},
      "source": [
        "Reading a Counter object returns the aggregated value from all received operations. In our example, the `c1` counter should now be equal to 9."
      ]
    },
    {
      "cell_type": "code",
      "execution_count": null,
      "metadata": {},
      "outputs": [],
      "source": [
        "read(counter_key)"
      ]
    },
    {
      "cell_type": "markdown",
      "metadata": {},
      "source": [
        "### Registers"
      ]
    },
    {
      "cell_type": "markdown",
      "metadata": {},
      "source": [
        "Register can store an arbitrary single-valued object. We use a register object to store a String in the following example."
      ]
    },
    {
      "cell_type": "code",
      "execution_count": null,
      "metadata": {},
      "outputs": [],
      "source": [
        "register_key = getLWWRegisterKey(\"r1\")"
      ]
    },
    {
      "cell_type": "code",
      "execution_count": null,
      "metadata": {},
      "outputs": [],
      "source": [
        "applyUpdate(assignLWWRegister(register_key, \"Hello\"))"
      ]
    },
    {
      "cell_type": "code",
      "execution_count": null,
      "metadata": {},
      "outputs": [],
      "source": [
        "read(register_key)"
      ]
    },
    {
      "cell_type": "markdown",
      "metadata": {},
      "source": [
        "### Sets"
      ]
    },
    {
      "cell_type": "markdown",
      "metadata": {},
      "source": [
        "Set can store a collection of values of the same type. This notebook supports only a Set of Strings."
      ]
    },
    {
      "cell_type": "code",
      "execution_count": null,
      "metadata": {},
      "outputs": [],
      "source": [
        "set_key = getSetKey(\"s1\")"
      ]
    },
    {
      "cell_type": "code",
      "execution_count": null,
      "metadata": {},
      "outputs": [],
      "source": [
        "applyUpdate(addToSet(set_key, \"A\",\"B\",\"C\",\"D\"))"
      ]
    },
    {
      "cell_type": "code",
      "execution_count": null,
      "metadata": {},
      "outputs": [],
      "source": [
        "read(set_key)"
      ]
    },
    {
      "cell_type": "code",
      "execution_count": null,
      "metadata": {},
      "outputs": [],
      "source": [
        "applyUpdate(removeFromSet(set_key, \"C\",\"D\"))"
      ]
    },
    {
      "cell_type": "code",
      "execution_count": null,
      "metadata": {},
      "outputs": [],
      "source": [
        "read(set_key)"
      ]
    },
    {
      "cell_type": "markdown",
      "metadata": {},
      "source": [
        "### Maps"
      ]
    },
    {
      "cell_type": "markdown",
      "metadata": {},
      "source": [
        "Map associates a collection of identifiers with different objects. In the following example, we create a map which stores two element objects: a counter, and a set object."
      ]
    },
    {
      "cell_type": "code",
      "execution_count": null,
      "metadata": {},
      "outputs": [],
      "source": [
        "map_key = getAWMapKey(\"m1\")"
      ]
    },
    {
      "cell_type": "code",
      "execution_count": null,
      "metadata": {},
      "outputs": [],
      "source": [
        "counter_key = getCounterKey(\"c2\")"
      ]
    },
    {
      "cell_type": "code",
      "execution_count": null,
      "metadata": {},
      "outputs": [],
      "source": [
        "set_key = getSetKey(\"s2\")"
      ]
    },
    {
      "cell_type": "markdown",
      "metadata": {},
      "source": [
        "To update a map, we actually update element objects of the map."
      ]
    },
    {
      "cell_type": "code",
      "execution_count": null,
      "metadata": {},
      "outputs": [],
      "source": [
        "applyUpdate(updateAWMap(map_key, incrementCounter(counter_key, 1)\n",
        "                               , addToSet(set_key, \"X\", \"Y\")))"
      ]
    },
    {
      "cell_type": "markdown",
      "metadata": {},
      "source": [
        "To read from a map, we need to specify the identifier of the element object."
      ]
    },
    {
      "cell_type": "code",
      "execution_count": null,
      "metadata": {},
      "outputs": [],
      "source": [
        "readFromMap(map_key, counter_key)"
      ]
    },
    {
      "cell_type": "code",
      "execution_count": null,
      "metadata": {},
      "outputs": [],
      "source": [
        "readFromMap(map_key, set_key)"
      ]
    },
    {
      "cell_type": "code",
      "execution_count": null,
      "metadata": {},
      "outputs": [],
      "source": [
        "applyUpdate(removeFromAWMap(map_key, counter_key))"
      ]
    },
    {
      "cell_type": "code",
      "execution_count": null,
      "metadata": {},
      "outputs": [],
      "source": [
        "readFromMap(map_key, counter_key)"
      ]
    },
    {
      "cell_type": "code",
      "execution_count": null,
      "metadata": {},
      "outputs": [],
      "source": [
        "readFromMap(map_key, set_key)"
      ]
    },
    {
      "cell_type": "markdown",
      "metadata": {},
      "source": [
        "We can also recursively nest maps in a map:"
      ]
    },
    {
      "cell_type": "code",
      "execution_count": null,
      "metadata": {},
      "outputs": [],
      "source": [
        "child_map_key = getAWMapKey(\"m1.1\")"
      ]
    },
    {
      "cell_type": "code",
      "execution_count": null,
      "metadata": {},
      "outputs": [],
      "source": [
        "nested_counter_key = getCounterKey(\"c2.1\")"
      ]
    },
    {
      "cell_type": "code",
      "execution_count": null,
      "metadata": {},
      "outputs": [],
      "source": [
        "applyUpdate(updateAWMap(map_key, updateAWMap(child_map_key, \n",
        "                            incrementCounter(child_counter_key, 43))))"
      ]
    },
    {
      "cell_type": "markdown",
      "metadata": {},
      "source": [
        "Reading a map in a map will return a mapResult object"
      ]
    },
    {
      "cell_type": "code",
      "execution_count": null,
      "metadata": {},
      "outputs": [],
      "source": [
        "mapResult = readFromMap(map_key, child_map_key)"
      ]
    },
    {
      "cell_type": "markdown",
      "metadata": {},
      "source": [
        "mapResults can be read separately. And it is possible to use it recursively to read map results. "
      ]
    },
    {
      "cell_type": "code",
      "execution_count": null,
      "metadata": {},
      "outputs": [],
      "source": [
        "readFromMapResult(mapResult, child_counter_key)"
      ]
    }
  ],
  "metadata": {
    "kernelspec": {
      "display_name": "Antidote",
      "language": "groovy",
      "name": "antidote"
    },
    "language_info": {
      "codemirror_mode": "",
      "file_extension": ".anb",
      "mimetype": "",
      "name": "Antidote",
      "nbconverter_exporter": "",
      "pygments_lexer": "",
      "version": "0.1.0"
    }
  },
  "nbformat": 4,
  "nbformat_minor": 2
}
