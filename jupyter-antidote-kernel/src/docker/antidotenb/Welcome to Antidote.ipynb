{
 "cells": [
  {
   "cell_type": "markdown",
   "metadata": {},
   "source": [
    "# Welcome to Antidote"
   ]
  },
  {
   "cell_type": "markdown",
   "metadata": {},
   "source": [
    "## Introduction"
   ]
  },
  {
   "cell_type": "markdown",
   "metadata": {
    "collapsed": true
   },
   "source": [
    "In this tutorial, you will be introduced to Antidote Databases. You can test and see how an eventually consistent database works. We will guide you through the Antidote CRDT data types, transactions, and how Antidote resolves inconsistencies. For more information, see http://syncfree.github.io/antidote/.\n",
    "\n",
    "> Note that this Jupyter notebook is based on Antidote Java API, but it is tailored for tutorial purpose. As a result, this tutorial might not reflect the full capabilities of Antidote. To find out how to use the Java API, please refer to the __[official Antidote Java API](https://www.javadoc.io/doc/eu.antidotedb/antidote-java-client/0.1.0)__. The appendix at the end of this notebook contains all available functions supported."
   ]
  },
  {
   "cell_type": "markdown",
   "metadata": {},
   "source": [
    "First of all, you need to make sure that Antidote service is up and running."
   ]
  },
  {
   "cell_type": "code",
   "execution_count": null,
   "metadata": {},
   "outputs": [],
   "source": [
    "init()"
   ]
  },
  {
   "cell_type": "markdown",
   "metadata": {},
   "source": [
    "## Antidote data types"
   ]
  },
  {
   "cell_type": "markdown",
   "metadata": {},
   "source": [
    "Antidote supports several Conflict-free replicated data types (CRDT). Each type handles inconsistencies differently. In this section, we show some examples of how you can use these data types. The data types supported by Antidote include:\n",
    "- __Number types__\n",
    "    - Counter\n",
    "    - Fat counter\n",
    "    - Integer\n",
    "- __Registers__\n",
    "    - Last-writer wins register\n",
    "    - Multi-value register\n",
    "- __Sets__\n",
    "    - Add-wins set (or Observed-remove set)\n",
    "    - Remove-win set\n",
    "- __Maps__\n",
    "    - Grow-only map\n",
    "    - Add-wins map\n",
    "    - Remove-resets map"
   ]
  },
  {
   "cell_type": "markdown",
   "metadata": {},
   "source": [
    "In Antidote, an object of any data types consists of 2 parts: a key and a value. You need a key in order to update/remove/reset/read your data object in an Antidote bucket. A bucket is an internal data structure used by Antidote where objects are stored. In this tutorial, we have 1 bucket which uses a unique session id as its key. An object key should be unique within the bucket, regardless of data types."
   ]
  },
  {
   "cell_type": "markdown",
   "metadata": {},
   "source": [
    "### Number Types"
   ]
  },
  {
   "cell_type": "markdown",
   "metadata": {},
   "source": [
    "The simplest number data type is Counter. First, we need to create a key for our counter object. We use `\"c1\"` as a unique key for accessing this Counter object in Antidote database. `getCounterKey(\"c1\")` returns a Counter Key object with key `\"c1\"`. We assign this Counter Key object to `counter_key` for an easy reference to our `\"c1\"` key later on."
   ]
  },
  {
   "cell_type": "code",
   "execution_count": null,
   "metadata": {},
   "outputs": [],
   "source": [
    "counter_key = getCounterKey(\"c1\")"
   ]
  },
  {
   "cell_type": "markdown",
   "metadata": {},
   "source": [
    "Counter is simply an integer object with increment and decrement operations. The initial value of a counter is 0. Let's try incrementing our `c1` counter by 10, and decrementing it by 1."
   ]
  },
  {
   "cell_type": "code",
   "execution_count": null,
   "metadata": {},
   "outputs": [],
   "source": [
    "applyUpdate(incrementCounter(counter_key, 10))\n",
    "applyUpdate(incrementCounter(counter_key, -1))"
   ]
  },
  {
   "cell_type": "markdown",
   "metadata": {},
   "source": [
    "Reading a counter object returns the aggregated value from all received operations. In our example, the `c1` counter should now be equal to 9."
   ]
  },
  {
   "cell_type": "code",
   "execution_count": null,
   "metadata": {},
   "outputs": [],
   "source": [
    "read(counter_key)"
   ]
  },
  {
   "cell_type": "markdown",
   "metadata": {},
   "source": [
    "Fat counter and Integer is similar to Counter, except that, in Fat counter, you can reset the counter to its inital state (value 0), while in Integer, you can assign a value to it."
   ]
  },
  {
   "cell_type": "markdown",
   "metadata": {},
   "source": [
    "### Registers"
   ]
  },
  {
   "cell_type": "markdown",
   "metadata": {},
   "source": [
    "Register can store a single-valued object. We use a register object to store a String in the following example."
   ]
  },
  {
   "cell_type": "code",
   "execution_count": null,
   "metadata": {},
   "outputs": [],
   "source": [
    "register_key = getLWRegisterKey(\"r1\")"
   ]
  },
  {
   "cell_type": "code",
   "execution_count": null,
   "metadata": {},
   "outputs": [],
   "source": [
    "applyUpdate(assignLWRegister(register_key, \"Hello\"))"
   ]
  },
  {
   "cell_type": "code",
   "execution_count": null,
   "metadata": {},
   "outputs": [],
   "source": [
    "read(register_key)"
   ]
  },
  {
   "cell_type": "markdown",
   "metadata": {},
   "source": [
    "### Sets"
   ]
  },
  {
   "cell_type": "markdown",
   "metadata": {},
   "source": [
    "Set can store a collection of values of the same type. This notebook supports only a Set of Strings."
   ]
  },
  {
   "cell_type": "code",
   "execution_count": null,
   "metadata": {},
   "outputs": [],
   "source": [
    "set_key = getSetKey(\"s1\")"
   ]
  },
  {
   "cell_type": "code",
   "execution_count": null,
   "metadata": {},
   "outputs": [],
   "source": [
    "applyUpdate(addToSet(set_key, \"A\",\"B\",\"C\",\"D\"))"
   ]
  },
  {
   "cell_type": "code",
   "execution_count": null,
   "metadata": {},
   "outputs": [],
   "source": [
    "read(set_key)"
   ]
  },
  {
   "cell_type": "code",
   "execution_count": null,
   "metadata": {},
   "outputs": [],
   "source": [
    "applyUpdate(removeFromSet(set_key, \"C\",\"D\"))"
   ]
  },
  {
   "cell_type": "code",
   "execution_count": null,
   "metadata": {},
   "outputs": [],
   "source": [
    "read(set_key)"
   ]
  },
  {
   "cell_type": "markdown",
   "metadata": {},
   "source": [
    "### Maps"
   ]
  },
  {
   "cell_type": "markdown",
   "metadata": {},
   "source": [
    "Map can store a collection of values of different Antidote data types. In the following example, we create a map which stores 2 element objects: an integer, and a fat counter object."
   ]
  },
  {
   "cell_type": "code",
   "execution_count": null,
   "metadata": {},
   "outputs": [],
   "source": [
    "map_key = getAWMapKey(\"m1\")"
   ]
  },
  {
   "cell_type": "code",
   "execution_count": null,
   "metadata": {},
   "outputs": [],
   "source": [
    "integer_key = getIntegerKey(\"i1\")"
   ]
  },
  {
   "cell_type": "code",
   "execution_count": null,
   "metadata": {},
   "outputs": [],
   "source": [
    "fatcounter_key = getFatCounterKey(\"f1\")"
   ]
  },
  {
   "cell_type": "markdown",
   "metadata": {},
   "source": [
    "To update a map, we actually update element objects of the map."
   ]
  },
  {
   "cell_type": "code",
   "execution_count": null,
   "metadata": {},
   "outputs": [],
   "source": [
    "applyUpdate(updateAWMap(map_key, assignInteger(integer_key, 1)\n",
    "                               , incrementFatCounter(fatcounter_key, 2)))"
   ]
  },
  {
   "cell_type": "markdown",
   "metadata": {},
   "source": [
    "To read from a map, we also need to specify the key of the element object."
   ]
  },
  {
   "cell_type": "code",
   "execution_count": null,
   "metadata": {},
   "outputs": [],
   "source": [
    "readFromMap(map_key, integer_key)"
   ]
  },
  {
   "cell_type": "code",
   "execution_count": null,
   "metadata": {},
   "outputs": [],
   "source": [
    "readFromMap(map_key, fatcounter_key)"
   ]
  },
  {
   "cell_type": "code",
   "execution_count": null,
   "metadata": {},
   "outputs": [],
   "source": [
    "applyUpdate(removeFromAWMap(map_key, integer_key))"
   ]
  },
  {
   "cell_type": "code",
   "execution_count": null,
   "metadata": {},
   "outputs": [],
   "source": [
    "readFromMap(map_key, integer_key)"
   ]
  },
  {
   "cell_type": "code",
   "execution_count": null,
   "metadata": {},
   "outputs": [],
   "source": [
    "readFromMap(map_key, fatcounter_key)"
   ]
  },
  {
   "cell_type": "markdown",
   "metadata": {},
   "source": [
    "We can also store maps in a map "
   ]
  },
  {
   "cell_type": "code",
   "execution_count": null,
   "metadata": {},
   "outputs": [],
   "source": [
    "child_map_key = getAWMapKey(\"m1.1\")"
   ]
  },
  {
   "cell_type": "code",
   "execution_count": null,
   "metadata": {},
   "outputs": [],
   "source": [
    "child_integer_key = getIntegerKey(\"i1.1\")"
   ]
  },
  {
   "cell_type": "code",
   "execution_count": null,
   "metadata": {},
   "outputs": [],
   "source": [
    "child_counter_key = getCounterKey(\"c1.3\")"
   ]
  },
  {
   "cell_type": "code",
   "execution_count": null,
   "metadata": {},
   "outputs": [],
   "source": [
    "applyUpdate(updateAWMap(map_key, updateAWMap(child_map_key, \n",
    "                            assignInteger(child_integer_key, 43), incrementCounter(child_counter_key, 3))))"
   ]
  },
  {
   "cell_type": "markdown",
   "metadata": {},
   "source": [
    "Reading a map in a map will return a mapResult object"
   ]
  },
  {
   "cell_type": "code",
   "execution_count": null,
   "metadata": {},
   "outputs": [],
   "source": [
    "mapResult = readFromMap(map_key, child_map_key)"
   ]
  },
  {
   "cell_type": "markdown",
   "metadata": {},
   "source": [
    "mapResults can be read seperately. And it is possible to use it recursively to read map results. "
   ]
  },
  {
   "cell_type": "code",
   "execution_count": null,
   "metadata": {},
   "outputs": [],
   "source": [
    "readFromMapResult(mapResult, child_counter_key)"
   ]
  },
  {
   "cell_type": "markdown",
   "metadata": {},
   "source": [
    "## Transactions"
   ]
  },
  {
   "cell_type": "markdown",
   "metadata": {},
   "source": [
    "So far, we use `applyUpdate()` to update the Antidote objects, but you can also group several updates to create an atomic transaction. Let's see an example below. We create a transaction that will assign a value to `x` and incremrent `y`."
   ]
  },
  {
   "cell_type": "code",
   "execution_count": null,
   "metadata": {},
   "outputs": [],
   "source": [
    "x = getIntegerKey(\"x\")\n",
    "y = getCounterKey(\"y\")"
   ]
  },
  {
   "cell_type": "markdown",
   "metadata": {},
   "source": [
    "First, we have to get a transaction object from `startTransaction()`."
   ]
  },
  {
   "cell_type": "code",
   "execution_count": null,
   "metadata": {},
   "outputs": [],
   "source": [
    "tx = startTransaction()"
   ]
  },
  {
   "cell_type": "markdown",
   "metadata": {},
   "source": [
    "Any updates to be included in the transaction must be called with `applyUpdateWithTransaction()`."
   ]
  },
  {
   "cell_type": "code",
   "execution_count": null,
   "metadata": {},
   "outputs": [],
   "source": [
    "applyUpdateWithTransaction(tx, incrementInteger(x, 10))"
   ]
  },
  {
   "cell_type": "code",
   "execution_count": null,
   "metadata": {},
   "outputs": [],
   "source": [
    "applyUpdateWithTransaction(tx, incrementCounter(y, 1))"
   ]
  },
  {
   "cell_type": "markdown",
   "metadata": {},
   "source": [
    "With `applyUpdateWithTransaction()`, the update is applied to the local Antidote node only. `readInTransaction()` returns the current value if all update operations in the specified transaction are applied."
   ]
  },
  {
   "cell_type": "code",
   "execution_count": null,
   "metadata": {},
   "outputs": [],
   "source": [
    "readInTransaction(tx,x)"
   ]
  },
  {
   "cell_type": "markdown",
   "metadata": {},
   "source": [
    "When you still have not committed your transaction, the updates will not be applied globally. That's why `read(x)` returns null, instead of 10."
   ]
  },
  {
   "cell_type": "code",
   "execution_count": null,
   "metadata": {},
   "outputs": [],
   "source": [
    "read(x)"
   ]
  },
  {
   "cell_type": "markdown",
   "metadata": {},
   "source": [
    "Let's see what happens after we commit the transaction."
   ]
  },
  {
   "cell_type": "code",
   "execution_count": null,
   "metadata": {},
   "outputs": [],
   "source": [
    "commitTransaction(tx)"
   ]
  },
  {
   "cell_type": "markdown",
   "metadata": {},
   "source": [
    "Now the updates in the transaction are applied globally."
   ]
  },
  {
   "cell_type": "code",
   "execution_count": null,
   "metadata": {},
   "outputs": [],
   "source": [
    "read(x)"
   ]
  },
  {
   "cell_type": "code",
   "execution_count": null,
   "metadata": {},
   "outputs": [],
   "source": [
    "read(y)"
   ]
  },
  {
   "cell_type": "markdown",
   "metadata": {},
   "source": [
    "> In this tutorial, `applyUpdate()` is an update with `NoTransaction`, while `applyUpdateWithTransaction()` is an update with `InteractiveTransaction` type. You can find out more about the other Antidote transaction types from the __[official Antidote Java API](https://www.javadoc.io/doc/eu.antidotedb/antidote-java-client/0.1.0)__."
   ]
  },
  {
   "cell_type": "markdown",
   "metadata": {},
   "source": [
    "## Data replication"
   ]
  },
  {
   "cell_type": "markdown",
   "metadata": {},
   "source": [
    "In Antidote, replicated databases are eventually consistent. Each data type resolves the consistencies differently. In this section, we will demonstrate this by using 2 replicated Antidote nodes: `Antidote1` and `Antidote2`. By default, this notebook connects to `Antidote1`."
   ]
  },
  {
   "cell_type": "markdown",
   "metadata": {},
   "source": [
    "<img src=\"images/Antidote-Notebook-diagram.png\">"
   ]
  },
  {
   "cell_type": "markdown",
   "metadata": {},
   "source": [
    "We first create an Integer Key `\"x\"` on `Antidote1`."
   ]
  },
  {
   "cell_type": "code",
   "execution_count": null,
   "metadata": {},
   "outputs": [],
   "source": [
    "switchAntidote(1)\n",
    "x = getIntegerKey(\"x\")\n",
    "applyUpdate(assignInteger(x, 2))\n",
    "read(x)"
   ]
  },
  {
   "cell_type": "markdown",
   "metadata": {},
   "source": [
    "Both `Antidote1` and `Antidote2` are currently connected. Any updates to either one of them will be replicated to the other one. Now we switch to Antidote2 to see if `x` is 2 as well."
   ]
  },
  {
   "cell_type": "code",
   "execution_count": null,
   "metadata": {},
   "outputs": [],
   "source": [
    "switchAntidote(2)"
   ]
  },
  {
   "cell_type": "code",
   "execution_count": null,
   "metadata": {},
   "outputs": [],
   "source": [
    "read(x)"
   ]
  },
  {
   "cell_type": "markdown",
   "metadata": {},
   "source": [
    "## Inconsistency resolution"
   ]
  },
  {
   "cell_type": "markdown",
   "metadata": {},
   "source": [
    "In this section, we will see how Antidote resolves conflicts when updates are done on disconnected replicas."
   ]
  },
  {
   "cell_type": "markdown",
   "metadata": {},
   "source": [
    "### Last-writer-wins"
   ]
  },
  {
   "cell_type": "markdown",
   "metadata": {},
   "source": [
    "If there are multiple updates while Antidote nodes are disconnected, the final value of the object will be the value updated at the last timestamp. The Last-writer-wins register uses this mechanism."
   ]
  },
  {
   "cell_type": "markdown",
   "metadata": {},
   "source": [
    "We first create a Last-writer-wins register key when both Antidote nodes are connected."
   ]
  },
  {
   "cell_type": "code",
   "execution_count": null,
   "metadata": {},
   "outputs": [],
   "source": [
    "connectAntidotes()\n",
    "lww_key = getLWRegisterKey(\"lww1\")\n",
    "applyUpdate(assignLWRegister(lww_key, \"A\"))\n",
    "read(lww_key)"
   ]
  },
  {
   "cell_type": "markdown",
   "metadata": {},
   "source": [
    "We then disconnect the nodes to see how Antidote handles inconsistencies."
   ]
  },
  {
   "cell_type": "code",
   "execution_count": null,
   "metadata": {},
   "outputs": [],
   "source": [
    "disconnectAntidotes()"
   ]
  },
  {
   "cell_type": "markdown",
   "metadata": {},
   "source": [
    "`disconnectAntidotes()` and `connectAntidotes()` simulates a disconnection and connection between the 2 Antidote nodes. <img src=\"images/Antidote-Notebook-diagram-disconnected.png\">"
   ]
  },
  {
   "cell_type": "code",
   "execution_count": null,
   "metadata": {},
   "outputs": [],
   "source": [
    "switchAntidote(1)\n",
    "applyUpdate(assignLWRegister(lww_key, \"B\"))\n",
    "read(lww_key)"
   ]
  },
  {
   "cell_type": "code",
   "execution_count": null,
   "metadata": {},
   "outputs": [],
   "source": [
    "switchAntidote(2)\n",
    "applyUpdate(assignLWRegister(lww_key, \"C\"))\n",
    "read(lww_key)"
   ]
  },
  {
   "cell_type": "markdown",
   "metadata": {},
   "source": [
    "While `Antidote1` and `Antidote2` are disconnected, key `lww1` was updated differently. This causes an inconsistency to key `lww1`."
   ]
  },
  {
   "cell_type": "code",
   "execution_count": null,
   "metadata": {},
   "outputs": [],
   "source": [
    "connectAntidotes()"
   ]
  },
  {
   "cell_type": "markdown",
   "metadata": {},
   "source": [
    "After re-connecting, Antidote resolves the inconsistencies using Last-writer-wins mechanism. The expected value stored in key `lww1` is `\"C\"` since it is the last update performed on key `lww1`."
   ]
  },
  {
   "cell_type": "code",
   "execution_count": null,
   "metadata": {},
   "outputs": [],
   "source": [
    "switchAntidote(1)\n",
    "read(lww_key)"
   ]
  },
  {
   "cell_type": "markdown",
   "metadata": {
    "collapsed": true
   },
   "source": [
    "### Multi-value"
   ]
  },
  {
   "cell_type": "markdown",
   "metadata": {},
   "source": [
    "If there are multiple updates while Antidote nodes are disconnected, all of the last updates on different Antidote nodes will be included the final values. The multi-value uses this mechanism. The final list is ordered in alphabetical order. In its initial state, reading the register returns the empty list."
   ]
  },
  {
   "cell_type": "code",
   "execution_count": null,
   "metadata": {},
   "outputs": [],
   "source": [
    "connectAntidotes()\n",
    "mv_key = getMVRegisterKey(\"mv1\")\n",
    "applyUpdate(assignMVRegister(mv_key, \"A\"))\n",
    "read(mv_key)"
   ]
  },
  {
   "cell_type": "code",
   "execution_count": null,
   "metadata": {},
   "outputs": [],
   "source": [
    "disconnectAntidotes()"
   ]
  },
  {
   "cell_type": "code",
   "execution_count": null,
   "metadata": {},
   "outputs": [],
   "source": [
    "switchAntidote(1)\n",
    "applyUpdate(assignMVRegister(mv_key, \"B\"))"
   ]
  },
  {
   "cell_type": "code",
   "execution_count": null,
   "metadata": {},
   "outputs": [],
   "source": [
    "switchAntidote(2)\n",
    "applyUpdate(assignMVRegister(mv_key, \"C\"))\n",
    "applyUpdate(assignMVRegister(mv_key, \"D\"))"
   ]
  },
  {
   "cell_type": "code",
   "execution_count": null,
   "metadata": {},
   "outputs": [],
   "source": [
    "connectAntidotes()"
   ]
  },
  {
   "cell_type": "markdown",
   "metadata": {},
   "source": [
    "The expected values stored on key mv1 is `[\"B\",\"D\"]` since both were the last update on different Antidote nodes during disconnection."
   ]
  },
  {
   "cell_type": "code",
   "execution_count": null,
   "metadata": {},
   "outputs": [],
   "source": [
    "switchAntidote(1)\n",
    "read(mv_key)"
   ]
  },
  {
   "cell_type": "markdown",
   "metadata": {},
   "source": [
    "### Add-wins"
   ]
  },
  {
   "cell_type": "markdown",
   "metadata": {},
   "source": [
    "Add-operations win over concurrent remove-operations. In this context, concurrent operations refer to operations committed to any Antidote nodes while they are not connected. A remove-operation will only “overwrite” the add-operations that happened before the Antidote nodes are disconnected."
   ]
  },
  {
   "cell_type": "code",
   "execution_count": null,
   "metadata": {},
   "outputs": [],
   "source": [
    "connectAntidotes()\n",
    "aw_key = getSetKey(\"aw1\")\n",
    "applyUpdate(addToSet(aw_key, \"A\"))\n",
    "read(aw_key)"
   ]
  },
  {
   "cell_type": "code",
   "execution_count": null,
   "metadata": {},
   "outputs": [],
   "source": [
    "disconnectAntidotes()"
   ]
  },
  {
   "cell_type": "code",
   "execution_count": null,
   "metadata": {},
   "outputs": [],
   "source": [
    "switchAntidote(1)\n",
    "applyUpdate(addToSet(aw_key, \"B\"))"
   ]
  },
  {
   "cell_type": "code",
   "execution_count": null,
   "metadata": {},
   "outputs": [],
   "source": [
    "switchAntidote(2)\n",
    "applyUpdate(removeFromSet(aw_key, \"A\"))\n",
    "applyUpdate(removeFromSet(aw_key, \"B\"))"
   ]
  },
  {
   "cell_type": "code",
   "execution_count": null,
   "metadata": {},
   "outputs": [],
   "source": [
    "connectAntidotes()"
   ]
  },
  {
   "cell_type": "markdown",
   "metadata": {},
   "source": [
    "The expected values stored on key aw_key is `[\"B\"]`. \n",
    "- `\"A\"` was successfully removed because there was no concurrent adding attempt on `\"A\"`. \n",
    "- `\"B\"` was included in the final value because there were concurrent adding and removing attempts on `\"B\"`, and add-operations win over remove-operations."
   ]
  },
  {
   "cell_type": "code",
   "execution_count": null,
   "metadata": {
    "scrolled": true
   },
   "outputs": [],
   "source": [
    "switchAntidote(1)\n",
    "read(aw_key)"
   ]
  },
  {
   "cell_type": "markdown",
   "metadata": {},
   "source": [
    "### Remove-wins"
   ]
  },
  {
   "cell_type": "markdown",
   "metadata": {},
   "source": [
    "Remove-operations win over concurrent add-operations. In this context, concurrent operations refer to operations committed to any Antidote nodes while they are not connected. An add-operation overwrites only the remove-operations that happened before the Antidote nodes are disconnected."
   ]
  },
  {
   "cell_type": "code",
   "execution_count": null,
   "metadata": {},
   "outputs": [],
   "source": [
    "connectAntidotes()\n",
    "rw_key = getRWSetKey(\"rw1\")\n",
    "applyUpdate(addToSet(rw_key, \"A\"))\n",
    "read(rw_key)"
   ]
  },
  {
   "cell_type": "code",
   "execution_count": null,
   "metadata": {},
   "outputs": [],
   "source": [
    "disconnectAntidotes()"
   ]
  },
  {
   "cell_type": "code",
   "execution_count": null,
   "metadata": {},
   "outputs": [],
   "source": [
    "switchAntidote(1)\n",
    "applyUpdate(removeFromSet(rw_key, \"B\"))"
   ]
  },
  {
   "cell_type": "code",
   "execution_count": null,
   "metadata": {},
   "outputs": [],
   "source": [
    "switchAntidote(2)\n",
    "applyUpdate(addToSet(rw_key, \"B\"))"
   ]
  },
  {
   "cell_type": "code",
   "execution_count": null,
   "metadata": {},
   "outputs": [],
   "source": [
    "connectAntidotes()"
   ]
  },
  {
   "cell_type": "markdown",
   "metadata": {},
   "source": [
    "The expected value stored on key aw_key is only `[\"A\"]`.\n",
    "- `\"A\"` was included in the final value because there was no update attempt on `\"A\"` during disconnection.\n",
    "- `\"B\"` was successfully removed because there were concurrent adding and removing attempts on `\"B\"`, and remove-operations win over add-operations."
   ]
  },
  {
   "cell_type": "code",
   "execution_count": null,
   "metadata": {
    "scrolled": true
   },
   "outputs": [],
   "source": [
    "switchAntidote(1)\n",
    "read(rw_key)"
   ]
  },
  {
   "cell_type": "markdown",
   "metadata": {},
   "source": [
    "### Appendix\n",
    "\n",
    "Following are all the method that are available for use in this notebook. \n"
   ]
  },
  {
   "cell_type": "markdown",
   "metadata": {},
   "source": [
    "- Initializes the Antidote client and connects the client to Antidote node 1. Creates a bucket with a unique key that will be used by this client. \n",
    "\n",
    "```init()```"
   ]
  },
  {
   "cell_type": "markdown",
   "metadata": {},
   "source": [
    "- Switch the session to the specified antidote node. Param node can either be 1 or 2. \n",
    "    - param antidoteNode\n",
    "\n",
    "```switchAntidote(1)```"
   ]
  },
  {
   "cell_type": "markdown",
   "metadata": {},
   "source": [
    "- Connect the antidote DB replicas. \n",
    "\n",
    "```connectAntidotes()```"
   ]
  },
  {
   "cell_type": "markdown",
   "metadata": {},
   "source": [
    "- Disrupt the connection between the antidote DB replicas. \n",
    "\n",
    "```disconnectAntidotes()```"
   ]
  },
  {
   "cell_type": "markdown",
   "metadata": {},
   "source": [
    "- Creates a Antidote Interactive Transaction\n",
    "    - Return AntidoteTransaction\n",
    "    \n",
    "```startTransaction()```"
   ]
  },
  {
   "cell_type": "markdown",
   "metadata": {},
   "source": [
    "- Adds an update operation to an interactive transaction. \n",
    "    - Params: AntidoteTransaction tx, UpdateOp updateOp\n",
    "\n",
    "```applyUpdateWithTransaction(tx, updateOp)```"
   ]
  },
  {
   "cell_type": "markdown",
   "metadata": {},
   "source": [
    "- Commits an transaction. This will execute all the update operations added to the transaction.\n",
    "    - Param AntidoteTransaction tx\n",
    "    \n",
    "```commitTransaction(tx)```"
   ]
  },
  {
   "cell_type": "markdown",
   "metadata": {},
   "source": [
    "- Reads a key stored in the antidote database. \n",
    "    - Param Key<T>\n",
    "    - Return object read from the key. \n",
    "    \n",
    "```read(key)```\n"
   ]
  },
  {
   "cell_type": "markdown",
   "metadata": {},
   "source": [
    "#### LW Register\n",
    "\n",
    "- Create a Last Wins Register key object with the passed string as the key ID.\n",
    "    - Param: String keyId\n",
    "    - Return RegisterKey<String>\n",
    "    \n",
    "```getLWRegisterKey(\"keyId\")```"
   ]
  },
  {
   "cell_type": "markdown",
   "metadata": {},
   "source": [
    "- Updates the value of the register with the passed registerKey.\n",
    "    - Param RegisterKey<String>, String value\n",
    "    - Return UpdateOp\n",
    "    \n",
    "```assignLWRegister(registerKey, \"value\")```"
   ]
  },
  {
   "cell_type": "markdown",
   "metadata": {},
   "source": [
    "#### MV Register\n",
    "\n",
    "- Create a Multi Value Register key object with the passed string as the key ID. \n",
    "    - Param String keyId\n",
    "    - Return MVRegisterKey<String>\n",
    "    \n",
    "```getMVRegisterKey(\"keyId\")```"
   ]
  },
  {
   "cell_type": "markdown",
   "metadata": {},
   "source": [
    "- Updates the value of the register with the passed registerKey. \n",
    "    - Param MVRegisterKey<String>, String value\n",
    "    - Return UpdateOp\n",
    "    \n",
    "```assignMVRegister(MVregisterKey, \"value\")```"
   ]
  },
  {
   "cell_type": "markdown",
   "metadata": {},
   "source": [
    "- Reset the MV register to initial state (empty list) \n",
    "    - Param MVRegisterKey<String>\n",
    "    - Return UpdateOp\n",
    "    \n",
    "```resetMVRegister(MVregisterKey)```"
   ]
  },
  {
   "cell_type": "markdown",
   "metadata": {},
   "source": [
    "#### SET\n",
    "\n",
    "- Create a Add Wins Set key object with the given keyId. \n",
    "    - Param String keyId\n",
    "    - Return SetKey<String>\n",
    "    \n",
    "```getSetKey(\"keyId\")```"
   ]
  },
  {
   "cell_type": "markdown",
   "metadata": {},
   "source": [
    "- Add the values to the set with the given key.  \n",
    "    - Param SetKey<String>, String…\n",
    "    - Return UpdateOp\n",
    "    \n",
    "```addToSet(setKey, \"value1\", \"value2\"...)```"
   ]
  },
  {
   "cell_type": "markdown",
   "metadata": {},
   "source": [
    "- Remove the specified values from the set with given key\n",
    "    - Param SetKey<String>, String…\n",
    "    - Return UpdateOp\n",
    "    \n",
    "```removeFromSet(setKey, \"value1\", \"value2\"...)```"
   ]
  },
  {
   "cell_type": "markdown",
   "metadata": {},
   "source": [
    "- Resets the set with the given key. \n",
    "    - Param SetKey<String>\n",
    "    - Return UpdateOp\n",
    "    \n",
    "```resetSet(setKey)```"
   ]
  },
  {
   "cell_type": "markdown",
   "metadata": {},
   "source": [
    "#### RW SET\n",
    "\n",
    "- Create a Remove Wins Set key object with the given keyId.\n",
    "    - Param String keyId\n",
    "    - Return SetKey<String>\n",
    "    \n",
    "```getRWSetKey(\"keyId\")```"
   ]
  },
  {
   "cell_type": "markdown",
   "metadata": {},
   "source": [
    "- Add the values to the Remove Wins Set with the given key.   \n",
    "    - Param SetKey<String>, String…\n",
    "    - Return UpdateOp\n",
    "    \n",
    "```addToRWSet(setKey, \"value1\", \"value2\")```"
   ]
  },
  {
   "cell_type": "markdown",
   "metadata": {},
   "source": [
    "- Remove the specified values from the Remove Wins set with given key.\n",
    "    - Param SetKey<String>, String…\n",
    "    - Return UpdateOp\n",
    "    \n",
    "```removeFromRWSet(setKey, \"value1\", \"value2\")```"
   ]
  },
  {
   "cell_type": "markdown",
   "metadata": {},
   "source": [
    "- Resets the Remove Wins set with the given key.  \n",
    "    - Param SetKey<String>\n",
    "    - Return UpdateOp\n",
    "    \n",
    "```resetRWSet(setKey)```"
   ]
  },
  {
   "cell_type": "markdown",
   "metadata": {},
   "source": [
    "#### Integer\n",
    "\n",
    "- Create an IntegerKey object with the given key ID \n",
    "    - Param String keyId\n",
    "    - Return IntegerKey\n",
    "    \n",
    "```getIntegerKey(\"keyId\")```"
   ]
  },
  {
   "cell_type": "markdown",
   "metadata": {},
   "source": [
    "- Assign the value of the integer. \n",
    "    - Param IntegerKey, int value\n",
    "    - Return UpdateOp\n",
    "    \n",
    "```assignInteger(integerKey, 1)```"
   ]
  },
  {
   "cell_type": "markdown",
   "metadata": {},
   "source": [
    "- Increment the integer with the given amount. \n",
    "    - Param IntegerKey, int increment\n",
    "    - Return UpdateOp\n",
    "    \n",
    "```incrementInteger(integerKey, increment)```"
   ]
  },
  {
   "cell_type": "markdown",
   "metadata": {},
   "source": [
    "#### Counter\n",
    "\n",
    "- Create an CounterKey object with the given key ID \n",
    "    - Param String keyId\n",
    "    - Return CounterKey\n",
    "    \n",
    "```getCounterKey(\"keyId\")```"
   ]
  },
  {
   "cell_type": "markdown",
   "metadata": {},
   "source": [
    "- Increment the Counter with the given amount. \n",
    "    - Param CounterKey, int increment\n",
    "    - Return UpdateOp\n",
    "    \n",
    "```incrementCounter(counterKey, increment)```"
   ]
  },
  {
   "cell_type": "markdown",
   "metadata": {},
   "source": [
    "#### Fat Counter\n",
    "\n",
    "- Create an FatCounterKey object with the given key ID \n",
    "    - Param String keyId\n",
    "    - Return FatCounterKey\n",
    "    \n",
    "```getFatCounterKey(\"keyId\")```"
   ]
  },
  {
   "cell_type": "markdown",
   "metadata": {},
   "source": [
    "- Increment the FatCounter with the given amount. \n",
    "    - Param FatCounterKey, int increment\n",
    "    - Return UpdateOp\n",
    "    \n",
    "```incrementFatCounter(counterKey, increment)```"
   ]
  },
  {
   "cell_type": "markdown",
   "metadata": {},
   "source": [
    "- Resets the FatCounter with the given key.  \n",
    "    - Param FatCounterKey\n",
    "    - Return UpdateOp\n",
    "    \n",
    "```resetFatCounter(fatCounterKey)```"
   ]
  },
  {
   "cell_type": "markdown",
   "metadata": {},
   "source": [
    "#### AW Map\n",
    "\n",
    "- Create an Add Wins Map Key object with the given key ID \n",
    "    - Param String keyId\n",
    "    - Return MapKey\n",
    "    \n",
    "```getAWMapKey(\"keyId\")```"
   ]
  },
  {
   "cell_type": "markdown",
   "metadata": {},
   "source": [
    "- Add elements to the Add Wins Map. Elements are added as update operations on their keys.  \n",
    "    - Param MapKey, UpdateOp...\n",
    "    - Return UpdateOp\n",
    "    \n",
    "```updateAWMap(mapKey, updateOp1, updateOp2)```"
   ]
  },
  {
   "cell_type": "markdown",
   "metadata": {},
   "source": [
    "- Remove the specified elements from the Add Wins Map with given key. Elements are passed as their key objects.\n",
    "    - Param MapKey, Key…\n",
    "    - Return UpdateOp\n",
    "    \n",
    "```removeFromAWMap(mapKey, key1, key2)```"
   ]
  },
  {
   "cell_type": "markdown",
   "metadata": {},
   "source": [
    "#### RR Map\n",
    "\n",
    "- Create an Remove Resets Map Key object with the given key ID \n",
    "    - Param String keyId\n",
    "    - Return MapKey\n",
    "    \n",
    "```getRRMapKey(\"keyId\")```"
   ]
  },
  {
   "cell_type": "markdown",
   "metadata": {},
   "source": [
    "- Add elements to the Remove Resets Map. Elements are added as update operations on their keys.  \n",
    "    - Param MapKey, UpdateOp...\n",
    "    - Return UpdateOp\n",
    "    \n",
    "```updateRRMap(mapKey, updateOp1, updateOp2)```"
   ]
  },
  {
   "cell_type": "markdown",
   "metadata": {},
   "source": [
    "- Remove the specified elements from the Remove Resets Map with given key. Elements are passed as their key objects.\n",
    "    - Param MapKey, Key…\n",
    "    - Return UpdateOp\n",
    "    \n",
    "```removeFromRRMap(mapKey, key1, key2)```"
   ]
  },
  {
   "cell_type": "markdown",
   "metadata": {},
   "source": [
    "- Resets the Remove Resets Map with the given key.  \n",
    "    - Param RRMapKey\n",
    "    - Return UpdateOp\n",
    "    \n",
    "```resetRRMap(rrMapKey)```"
   ]
  },
  {
   "cell_type": "markdown",
   "metadata": {},
   "source": [
    "#### G Map\n",
    "\n",
    "- Create an G Map Key object with the given key ID \n",
    "    - Param String keyId\n",
    "    - Return MapKey\n",
    "    \n",
    "```getGMapKey(\"keyId\")```"
   ]
  },
  {
   "cell_type": "markdown",
   "metadata": {},
   "source": [
    "- Add elements to the G Map. Elements are added as update operations on their keys.  \n",
    "    - Param MapKey, UpdateOp...\n",
    "    - Return UpdateOp\n",
    "    \n",
    "```updateGMap(mapKey, updateOp1, updateOp2)```"
   ]
  },
  {
   "cell_type": "code",
   "execution_count": null,
   "metadata": {},
   "outputs": [],
   "source": []
  }
 ],
 "metadata": {
  "kernelspec": {
   "display_name": "Antidote",
   "language": "groovy",
   "name": "antidote"
  },
  "language_info": {
   "codemirror_mode": "",
   "file_extension": ".anb",
   "mimetype": "",
   "name": "Antidote",
   "nbconverter_exporter": "",
   "pygments_lexer": "",
   "version": "0.1.0"
  }
 },
 "nbformat": 4,
 "nbformat_minor": 2
}
