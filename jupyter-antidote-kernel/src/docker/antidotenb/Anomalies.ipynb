{
 "cells": [
  {
   "cell_type": "markdown",
   "metadata": {},
   "source": [
    "# Observing Anomalies"
   ]
  },
  {
   "cell_type": "markdown",
   "metadata": {},
   "source": [
    "First of all, you need to make sure that our datastore service is up and running."
   ]
  },
  {
   "cell_type": "code",
   "execution_count": 1,
   "metadata": {},
   "outputs": [
    {
     "data": {
      "text/plain": [
       "00:33:06Setup created. Connected to Replica 1."
      ]
     },
     "execution_count": 1,
     "metadata": {},
     "output_type": "execute_result"
    }
   ],
   "source": [
    "init()"
   ]
  },
  {
   "cell_type": "markdown",
   "metadata": {},
   "source": [
    "In this section, we will see how eventually consistent data stores behave when updates are done on disconnected replicas.\n",
    " We will demonstrate this by using two replicated DC nodes: replica 1 and replica 2. By default, this notebook connects to replica 1."
   ]
  },
  {
   "cell_type": "markdown",
   "metadata": {},
   "source": [
    "<img src=\"images/Antidote-Notebook-diagram.png\">"
   ]
  },
  {
   "cell_type": "markdown",
   "metadata": {},
   "source": [
    "We first create a Kanban board on replica 1."
   ]
  },
  {
   "cell_type": "code",
   "execution_count": 2,
   "metadata": {},
   "outputs": [
    {
     "data": {
      "text/plain": [
       "Board Name - CodeMesh\n",
       "List of Column Ids - [COLUMN_0, COLUMN_1, COLUMN_2, COLUMN_3]\n",
       "List of Columns - [Column Name - todo\n",
       "Board Id of column - BOARD_0\n",
       "List of TaskIds - []\n",
       "List of Tasks - [], Column Name - done\n",
       "Board Id of column - BOARD_0\n",
       "List of TaskIds - []\n",
       "List of Tasks - [], Column Name - todo\n",
       "Board Id of column - BOARD_0\n",
       "List of TaskIds - [TASK_0]\n",
       "List of Tasks - [Task Name - Slides\n",
       "Column Id of task - COLUMN_2\n",
       "Due Date - null], Column Name - done\n",
       "Board Id of column - BOARD_0\n",
       "List of TaskIds - []\n",
       "List of Tasks - []]"
      ]
     },
     "execution_count": 2,
     "metadata": {},
     "output_type": "execute_result"
    }
   ],
   "source": [
    "onReplica(1)\n",
    "b = createboard(\"CodeMesh\")\n",
    "getboard(b)"
   ]
  },
  {
   "cell_type": "code",
   "execution_count": 3,
   "metadata": {},
   "outputs": [
    {
     "data": {
      "text/plain": [
       "Board Name - CodeMesh\n",
       "List of Column Ids - [COLUMN_0, COLUMN_1, COLUMN_2, COLUMN_3]\n",
       "List of Columns - [Column Name - todo\n",
       "Board Id of column - BOARD_0\n",
       "List of TaskIds - [TASK_0]\n",
       "List of Tasks - [Task Name - Slides\n",
       "Column Id of task - COLUMN_0\n",
       "Due Date - null], Column Name - done\n",
       "Board Id of column - BOARD_0\n",
       "List of TaskIds - []\n",
       "List of Tasks - [], Column Name - todo\n",
       "Board Id of column - BOARD_0\n",
       "List of TaskIds - [TASK_0]\n",
       "List of Tasks - [Task Name - Slides\n",
       "Column Id of task - COLUMN_0\n",
       "Due Date - null], Column Name - done\n",
       "Board Id of column - BOARD_0\n",
       "List of TaskIds - []\n",
       "List of Tasks - []]"
      ]
     },
     "execution_count": 3,
     "metadata": {},
     "output_type": "execute_result"
    }
   ],
   "source": [
    "c1 = addcolumn(b,\"todo\")\n",
    "c2 = addcolumn(b,\"done\")\n",
    "t1 = createtask(\"Slides\",c1)\n",
    "getboard(b)"
   ]
  },
  {
   "cell_type": "markdown",
   "metadata": {},
   "source": [
    "The two replicas are currently connected. Any updates to either one of them will be replicated to the other one. Now, we switch to replica 2 to see if the board is there available."
   ]
  },
  {
   "cell_type": "code",
   "execution_count": 4,
   "metadata": {},
   "outputs": [
    {
     "data": {
      "text/plain": [
       "Board Name - CodeMesh\n",
       "List of Column Ids - [COLUMN_0, COLUMN_1, COLUMN_2, COLUMN_3]\n",
       "List of Columns - [Column Name - todo\n",
       "Board Id of column - BOARD_0\n",
       "List of TaskIds - [TASK_0]\n",
       "List of Tasks - [Task Name - Slides\n",
       "Column Id of task - COLUMN_0\n",
       "Due Date - null], Column Name - done\n",
       "Board Id of column - BOARD_0\n",
       "List of TaskIds - []\n",
       "List of Tasks - [], Column Name - todo\n",
       "Board Id of column - BOARD_0\n",
       "List of TaskIds - [TASK_0]\n",
       "List of Tasks - [Task Name - Slides\n",
       "Column Id of task - COLUMN_0\n",
       "Due Date - null], Column Name - done\n",
       "Board Id of column - BOARD_0\n",
       "List of TaskIds - []\n",
       "List of Tasks - []]"
      ]
     },
     "execution_count": 4,
     "metadata": {},
     "output_type": "execute_result"
    }
   ],
   "source": [
    "onReplica(2)\n",
    "getboard(b)"
   ]
  },
  {
   "cell_type": "markdown",
   "metadata": {},
   "source": []
  },
  {
   "cell_type": "markdown",
   "metadata": {},
   "source": [
    "## Classical Conflict-Resolution"
   ]
  },
  {
   "cell_type": "markdown",
   "metadata": {},
   "source": [
    "### Last-writer-wins"
   ]
  },
  {
   "cell_type": "markdown",
   "metadata": {},
   "source": [
    "The Last-writer-wins register uses this mechanism. If there are multiple updates while the replicas are disconnected, the final value of the object will be the value updated at the last timestamp."
   ]
  },
  {
   "cell_type": "markdown",
   "metadata": {},
   "source": [
    "To simulate this situation, we first create a Last-Writer-Wins register (LWW) key while the replicas are connected."
   ]
  },
  {
   "cell_type": "code",
   "execution_count": 5,
   "metadata": {},
   "outputs": [
    {
     "data": {
      "text/plain": [
       "A"
      ]
     },
     "execution_count": 5,
     "metadata": {},
     "output_type": "execute_result"
    }
   ],
   "source": [
    "connect()\n",
    "lww_key = getLWWRegisterKey(\"lww1\")\n",
    "applyUpdate(assignLWWRegister(lww_key, \"A\"))\n",
    "read(lww_key)"
   ]
  },
  {
   "cell_type": "markdown",
   "metadata": {},
   "source": [
    "Next, we disconnect the nodes."
   ]
  },
  {
   "cell_type": "code",
   "execution_count": 6,
   "metadata": {},
   "outputs": [
    {
     "data": {
      "text/plain": [
       "00:33:22 Disconnecting replicas."
      ]
     },
     "execution_count": 6,
     "metadata": {},
     "output_type": "execute_result"
    }
   ],
   "source": [
    "disconnect()"
   ]
  },
  {
   "cell_type": "markdown",
   "metadata": {},
   "source": []
  },
  {
   "cell_type": "code",
   "execution_count": 7,
   "metadata": {},
   "outputs": [
    {
     "data": {
      "text/plain": [
       "B"
      ]
     },
     "execution_count": 7,
     "metadata": {},
     "output_type": "execute_result"
    }
   ],
   "source": [
    "onReplica(1)\n",
    "applyUpdate(assignLWWRegister(lww_key, \"B\"))\n",
    "read(lww_key)"
   ]
  },
  {
   "cell_type": "code",
   "execution_count": 8,
   "metadata": {},
   "outputs": [
    {
     "data": {
      "text/plain": [
       "C"
      ]
     },
     "execution_count": 8,
     "metadata": {},
     "output_type": "execute_result"
    }
   ],
   "source": [
    "onReplica(2)\n",
    "applyUpdate(assignLWWRegister(lww_key, \"C\"))\n",
    "read(lww_key)"
   ]
  },
  {
   "cell_type": "markdown",
   "metadata": {},
   "source": [
    "While replica 1 and replica2  are disconnected, key `lww1` was updated differently. This causes an inconsistency to key `lww1`."
   ]
  },
  {
   "cell_type": "code",
   "execution_count": 9,
   "metadata": {},
   "outputs": [
    {
     "data": {
      "text/plain": [
       "00:33:36 Connecting replicas."
      ]
     },
     "execution_count": 9,
     "metadata": {},
     "output_type": "execute_result"
    }
   ],
   "source": [
    "connect()"
   ]
  },
  {
   "cell_type": "markdown",
   "metadata": {},
   "source": [
    "After re-connecting, Antidote resolves the inconsistencies applying the LWW scheme. The expected value stored in key `lww1` is `\"C\"` since it is the last update performed on key `lww1`."
   ]
  },
  {
   "cell_type": "code",
   "execution_count": 11,
   "metadata": {},
   "outputs": [
    {
     "data": {
      "text/plain": [
       "C"
      ]
     },
     "execution_count": 11,
     "metadata": {},
     "output_type": "execute_result"
    }
   ],
   "source": [
    "onReplica(1)\n",
    "read(lww_key)"
   ]
  },
  {
   "cell_type": "markdown",
   "metadata": {
    "collapsed": true
   },
   "source": [
    "### Multi-value"
   ]
  },
  {
   "cell_type": "markdown",
   "metadata": {},
   "source": [
    "If there are multiple updates while Antidote nodes are disconnected, all of the last updates on different Antidote nodes will be included the final values. The multi-value uses this mechanism. The final list is ordered in alphabetical order. In its initial state, reading the register returns the empty list."
   ]
  },
  {
   "cell_type": "code",
   "execution_count": 12,
   "metadata": {},
   "outputs": [
    {
     "data": {
      "text/plain": [
       "[A]"
      ]
     },
     "execution_count": 12,
     "metadata": {},
     "output_type": "execute_result"
    }
   ],
   "source": [
    "connect()\n",
    "mv_key = getMVRegisterKey(\"mv1\")\n",
    "applyUpdate(assignMVRegister(mv_key, \"A\"))\n",
    "read(mv_key)"
   ]
  },
  {
   "cell_type": "code",
   "execution_count": 13,
   "metadata": {},
   "outputs": [
    {
     "data": {
      "text/plain": [
       "00:34:07 Disconnecting replicas."
      ]
     },
     "execution_count": 13,
     "metadata": {},
     "output_type": "execute_result"
    }
   ],
   "source": [
    "disconnect()"
   ]
  },
  {
   "cell_type": "code",
   "execution_count": 16,
   "metadata": {},
   "outputs": [
    {
     "data": {
      "text/plain": [
       "[B]"
      ]
     },
     "execution_count": 16,
     "metadata": {},
     "output_type": "execute_result"
    }
   ],
   "source": [
    "onReplica(1)\n",
    "applyUpdate(assignMVRegister(mv_key, \"B\"))\n",
    "read(mv_key)"
   ]
  },
  {
   "cell_type": "code",
   "execution_count": 17,
   "metadata": {},
   "outputs": [
    {
     "name": "stderr",
     "output_type": "stream",
     "text": [
      "java.net.SocketException: Broken pipe (Write failed)"
     ]
    }
   ],
   "source": [
    "onReplica(2)\n",
    "applyUpdate(assignMVRegister(mv_key, \"C\"))\n",
    "applyUpdate(assignMVRegister(mv_key, \"D\"))"
   ]
  },
  {
   "cell_type": "code",
   "execution_count": 18,
   "metadata": {},
   "outputs": [
    {
     "data": {
      "text/plain": [
       "00:34:57 Connecting replicas."
      ]
     },
     "execution_count": 18,
     "metadata": {},
     "output_type": "execute_result"
    }
   ],
   "source": [
    "connect()"
   ]
  },
  {
   "cell_type": "markdown",
   "metadata": {},
   "source": [
    "The expected values stored on key mv1 is `[\"B\",\"D\"]` since both were the last update on different Antidote nodes during disconnection."
   ]
  },
  {
   "cell_type": "code",
   "execution_count": 19,
   "metadata": {},
   "outputs": [
    {
     "data": {
      "text/plain": [
       "[B]"
      ]
     },
     "execution_count": 19,
     "metadata": {},
     "output_type": "execute_result"
    }
   ],
   "source": [
    "onReplica(1)\n",
    "read(mv_key)"
   ]
  },
  {
   "cell_type": "code",
   "execution_count": null,
   "metadata": {},
   "outputs": [],
   "source": []
  }
 ],
 "metadata": {
  "kernelspec": {
   "display_name": "Antidote",
   "language": "groovy",
   "name": "antidote"
  },
  "language_info": {
   "codemirror_mode": "",
   "file_extension": ".anb",
   "mimetype": "",
   "name": "Antidote",
   "nbconverter_exporter": "",
   "pygments_lexer": "",
   "version": "0.1.0"
  }
 },
 "nbformat": 4,
 "nbformat_minor": 2
}
