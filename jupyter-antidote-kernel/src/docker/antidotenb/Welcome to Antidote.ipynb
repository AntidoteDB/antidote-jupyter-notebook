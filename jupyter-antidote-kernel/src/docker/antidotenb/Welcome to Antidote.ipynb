{
 "cells": [
  {
   "cell_type": "code",
   "execution_count": 0,
   "metadata": {
    "collapsed": true
   },
   "outputs": [],
   "source": [
    "history()"
   ]
  },
  {
   "cell_type": "code",
   "execution_count": 1,
   "metadata": {},
   "outputs": [
    {
     "data": {
      "text/plain": [
       "1"
      ]
     },
     "execution_count": 1,
     "metadata": {},
     "output_type": "execute_result"
    }
   ],
   "source": [
    "int x=1;"
   ]
  },
  {
   "cell_type": "code",
   "execution_count": 1,
   "metadata": {
    "collapsed": true
   },
   "outputs": [],
   "source": [
    "histories()"
   ]
  },
  {
   "cell_type": "code",
   "execution_count": 1,
   "metadata": {},
   "outputs": [
    {
     "name": "stderr",
     "output_type": "stream",
     "text": [
      "startup failed:\r\n",
      "Script5.groovy: 1: unable to resolve class HistoriesClient \n",
      " @ line 1, column 17.\r\n",
      "   HistoriesClient h = histories()\r\n",
      "                   ^\r\n",
      "\r\n",
      "1 error\r\n"
     ]
    }
   ],
   "source": [
    "HistoriesClient h = histories()"
   ]
  },
  {
   "cell_type": "code",
   "execution_count": 2,
   "metadata": {},
   "outputs": [
    {
     "data": {
      "text/plain": [
       "Cell returned null."
      ]
     },
     "execution_count": 2,
     "metadata": {},
     "output_type": "execute_result"
    }
   ],
   "source": [
    "println \"Hello World\""
   ]
  },
  {
   "cell_type": "code",
   "execution_count": 1,
   "metadata": {},
   "outputs": [
    {
     "data": {
      "text/plain": [
       "ANTIDOTE"
      ]
     },
     "execution_count": 1,
     "metadata": {},
     "output_type": "execute_result"
    }
   ],
   "source": [
    "testString(\"antidote\")"
   ]
  },
  {
   "cell_type": "code",
   "execution_count": null,
   "metadata": {
    "collapsed": true
   },
   "outputs": [],
   "source": []
  }
 ],
 "metadata": {
  "kernelspec": {
   "display_name": "Antidote",
   "language": "groovy",
   "name": "antidote"
  },
  "language_info": {
   "codemirror_mode": "",
   "file_extension": ".lsd",
   "mimetype": "",
   "name": "Antidote",
   "nbconverter_exporter": "",
   "pygments_lexer": "",
   "version": "0.1.0"
  }
 },
 "nbformat": 4,
 "nbformat_minor": 2
}
