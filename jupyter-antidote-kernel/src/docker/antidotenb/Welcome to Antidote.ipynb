{
 "cells": [
  {
   "cell_type": "code",
   "execution_count": 1,
   "metadata": {},
   "outputs": [
    {
     "data": {
      "text/plain": [
       "Connecting Antidote nodes."
      ]
     },
     "execution_count": 1,
     "metadata": {},
     "output_type": "execute_result"
    }
   ],
   "source": [
    "connectAntidotes()"
   ]
  },
  {
   "cell_type": "code",
   "execution_count": 2,
   "metadata": {},
   "outputs": [
    {
     "data": {
      "text/plain": [
       "Disconnecting Antidote nodes."
      ]
     },
     "execution_count": 2,
     "metadata": {},
     "output_type": "execute_result"
    }
   ],
   "source": [
    "disconnectAntidotes()"
   ]
  },
  {
   "cell_type": "code",
   "execution_count": 1,
   "metadata": {},
   "outputs": [
    {
     "data": {
      "text/plain": [
       "Cell returned null."
      ]
     },
     "execution_count": 1,
     "metadata": {},
     "output_type": "execute_result"
    }
   ],
   "source": [
    "init()"
   ]
  },
  {
   "cell_type": "code",
   "execution_count": 2,
   "metadata": {},
   "outputs": [
    {
     "data": {
      "text/plain": [
       "13"
      ]
     },
     "execution_count": 2,
     "metadata": {},
     "output_type": "execute_result"
    }
   ],
   "source": [
    "//INTEGER_KEY\n",
    "int_key = getIntegerKey(\"int_key\")\n",
    "\n",
    "tx_1 = startTransaction()\n",
    "addToTransaction(tx_1,assignInteger(int_key,10))\n",
    "addToTransaction(tx_1,incrementInteger(int_key,3))\n",
    "commitTransaction(tx_1)\n",
    "\n",
    "read(int_key)"
   ]
  },
  {
   "cell_type": "code",
   "execution_count": 2,
   "metadata": {},
   "outputs": [
    {
     "data": {
      "text/plain": [
       "3"
      ]
     },
     "execution_count": 2,
     "metadata": {},
     "output_type": "execute_result"
    }
   ],
   "source": [
    "//COUNTER_KEY\n",
    "counter_key = getCounterKey(\"counter_key\")\n",
    "\n",
    "tx_2 = startTransaction()\n",
    "addToTransaction(tx_2,incrementCounter(counter_key,3))\n",
    "commitTransaction(tx_2)\n",
    "\n",
    "read(counter_key)"
   ]
  },
  {
   "cell_type": "code",
   "execution_count": 3,
   "metadata": {},
   "outputs": [
    {
     "data": {
      "text/plain": [
       "3"
      ]
     },
     "execution_count": 3,
     "metadata": {},
     "output_type": "execute_result"
    }
   ],
   "source": [
    "//FATCOUNTER_KEY\n",
    "fat_counter_key = getFatCounterKey(\"fat_counter_key\")\n",
    "\n",
    "tx_3 = startTransaction()\n",
    "addToTransaction(tx_3,incrementFatCounter(fat_counter_key,3))\n",
    "commitTransaction(tx_3)\n",
    "\n",
    "read(fat_counter_key)"
   ]
  },
  {
   "cell_type": "code",
   "execution_count": 4,
   "metadata": {},
   "outputs": [
    {
     "data": {
      "text/plain": [
       "Cell returned null."
      ]
     },
     "execution_count": 4,
     "metadata": {},
     "output_type": "execute_result"
    }
   ],
   "source": [
    "applyUpdate(resetFatCounter(fat_counter_key))\n",
    "read(fat_counter_key)"
   ]
  },
  {
   "cell_type": "code",
   "execution_count": 5,
   "metadata": {},
   "outputs": [
    {
     "data": {
      "text/plain": [
       "3"
      ]
     },
     "execution_count": 5,
     "metadata": {},
     "output_type": "execute_result"
    }
   ],
   "source": [
    "read(counter_key)"
   ]
  },
  {
   "cell_type": "code",
   "execution_count": 6,
   "metadata": {},
   "outputs": [
    {
     "data": {
      "text/plain": [
       "10"
      ]
     },
     "execution_count": 6,
     "metadata": {},
     "output_type": "execute_result"
    }
   ],
   "source": [
    "//MAP_AW\n",
    "map_key = getAWMapKey(\"m\")\n",
    "\n",
    "//update\n",
    "tx_4 = startTransaction()\n",
    "addToTransaction(tx_4,updateAWMap(map_key, assignInteger(int_key,10), incrementCounter(counter_key,20)))\n",
    "addToTransaction(tx_4,updateAWMap(map_key, incrementFatCounter(z_key,13)))\n",
    "commitTransaction(tx_4)\n",
    "\n",
    "readFromMap(map_key, int_key)\n",
    "//readFromMap(map_key, counter_key)\n",
    "//readFromMap(map_key, fat_counter_key)"
   ]
  },
  {
   "cell_type": "code",
   "execution_count": 7,
   "metadata": {},
   "outputs": [
    {
     "data": {
      "text/plain": [
       "13"
      ]
     },
     "execution_count": 7,
     "metadata": {},
     "output_type": "execute_result"
    }
   ],
   "source": [
    "//remove keys\n",
    "applyUpdate(removeFromAWMap(map_key, int_key, counter_key))\n",
    "readFromMap(map_key, int_key)\n",
    "readFromMap(map_key, fat_counter_key)"
   ]
  },
  {
   "cell_type": "code",
   "execution_count": 8,
   "metadata": {},
   "outputs": [
    {
     "data": {
      "text/plain": [
       "RRMAP_mrr"
      ]
     },
     "execution_count": 8,
     "metadata": {},
     "output_type": "execute_result"
    }
   ],
   "source": [
    "rrmap_key = getRRMapKey(\"rrmap_key\")"
   ]
  },
  {
   "cell_type": "code",
   "execution_count": 2,
   "metadata": {},
   "outputs": [
    {
     "data": {
      "text/plain": [
       "GMAP_mg"
      ]
     },
     "execution_count": 2,
     "metadata": {},
     "output_type": "execute_result"
    }
   ],
   "source": [
    "gmap_key = getGMapKey(\"gmap_key\")"
   ]
  },
  {
   "cell_type": "code",
   "execution_count": null,
   "metadata": {
    "collapsed": true
   },
   "outputs": [],
   "source": []
  }
 ],
 "metadata": {
  "kernelspec": {
   "display_name": "Antidote",
   "language": "groovy",
   "name": "antidote"
  },
  "language_info": {
   "codemirror_mode": "",
   "file_extension": ".lsd",
   "mimetype": "",
   "name": "Antidote",
   "nbconverter_exporter": "",
   "pygments_lexer": "",
   "version": "0.1.0"
  }
 },
 "nbformat": 4,
 "nbformat_minor": 2
}
