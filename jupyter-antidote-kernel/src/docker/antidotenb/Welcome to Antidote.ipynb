{
 "cells": [
  {
   "cell_type": "code",
   "execution_count": 1,
   "metadata": {},
   "outputs": [
    {
     "data": {
      "text/plain": [
       "Connecting Antidote nodes."
      ]
     },
     "execution_count": 1,
     "metadata": {},
     "output_type": "execute_result"
    }
   ],
   "source": [
    "connectAntidotes()"
   ]
  },
  {
   "cell_type": "code",
   "execution_count": 2,
   "metadata": {},
   "outputs": [
    {
     "data": {
      "text/plain": [
       "Disconnecting Antidote nodes."
      ]
     },
     "execution_count": 2,
     "metadata": {},
     "output_type": "execute_result"
    }
   ],
   "source": [
    "disconnectAntidotes()"
   ]
  },
  {
   "cell_type": "code",
   "execution_count": 1,
   "metadata": {},
   "outputs": [
    {
     "data": {
      "text/plain": [
       "Cell returned null."
      ]
     },
     "execution_count": 1,
     "metadata": {},
     "output_type": "execute_result"
    }
   ],
   "source": [
    "init()"
   ]
  },
  {
   "cell_type": "code",
   "execution_count": 2,
   "metadata": {},
   "outputs": [
    {
     "data": {
      "text/plain": [
       "13"
      ]
     },
     "execution_count": 2,
     "metadata": {},
     "output_type": "execute_result"
    }
   ],
   "source": [
    "//INTEGER_KEY\n",
    "x_key = getIntegerKey(\"x\")\n",
    "\n",
    "tx_x = startTransaction()\n",
    "addToTransaction(tx_x,assignInteger(x_key,10))\n",
    "addToTransaction(tx_x,incrementInteger(x_key,3))\n",
    "commitTransaction(tx_x)\n",
    "x\n",
    "read(x_key)"
   ]
  },
  {
   "cell_type": "code",
   "execution_count": 3,
   "metadata": {},
   "outputs": [
    {
     "data": {
      "text/plain": [
       "3"
      ]
     },
     "execution_count": 3,
     "metadata": {},
     "output_type": "execute_result"
    }
   ],
   "source": [
    "//COUNTER_KEY\n",
    "y_key = getCounterKey(\"y\")\n",
    "\n",
    "tx_y = startTransaction()\n",
    "addToTransaction(tx_y,incrementCounter(y_key,3))\n",
    "commitTransaction(tx_y)\n",
    "\n",
    "read(y_key)"
   ]
  },
  {
   "cell_type": "code",
   "execution_count": 4,
   "metadata": {},
   "outputs": [
    {
     "data": {
      "text/plain": [
       "3"
      ]
     },
     "execution_count": 4,
     "metadata": {},
     "output_type": "execute_result"
    }
   ],
   "source": [
    "//FATCOUNTER_KEY\n",
    "z_key = getFatCounterKey(\"z\")\n",
    "\n",
    "tx_z = startTransaction()\n",
    "addToTransaction(tx_z,incrementFatCounter(z_key,3))\n",
    "commitTransaction(tx_z)\n",
    "\n",
    "read(z_key)"
   ]
  },
  {
   "cell_type": "code",
   "execution_count": 5,
   "metadata": {},
   "outputs": [
    {
     "data": {
      "text/plain": [
       "Cell returned null."
      ]
     },
     "execution_count": 5,
     "metadata": {},
     "output_type": "execute_result"
    }
   ],
   "source": [
    "applyUpdate(resetFatCounter(z_key))\n",
    "read(z_key)"
   ]
  },
  {
   "cell_type": "code",
   "execution_count": 6,
   "metadata": {},
   "outputs": [
    {
     "data": {
      "text/plain": [
       "3"
      ]
     },
     "execution_count": 6,
     "metadata": {},
     "output_type": "execute_result"
    }
   ],
   "source": [
    "read(y_key)"
   ]
  },
  {
   "cell_type": "code",
   "execution_count": 7,
   "metadata": {},
   "outputs": [
    {
     "data": {
      "text/plain": [
       "10"
      ]
     },
     "execution_count": 7,
     "metadata": {},
     "output_type": "execute_result"
    }
   ],
   "source": [
    "//MAP_AW\n",
    "m_key = getMapAWKey(\"m\")\n",
    "\n",
    "//update\n",
    "tx_m = startTransaction()\n",
    "addToTransaction(tx_m,updateMapAW(m_key, assignInteger(x_key,10), incrementCounter(y_key,20)))\n",
    "addToTransaction(tx_m,updateMapAW(m_key, incrementFatCounter(z_key,13)))\n",
    "commitTransaction(tx_m)\n",
    "\n",
    "readFromMap(m_key, x_key)\n",
    "//readFromMap(m_key, y_key)\n",
    "//readFromMap(m_key, z_key)"
   ]
  },
  {
   "cell_type": "code",
   "execution_count": 9,
   "metadata": {},
   "outputs": [
    {
     "data": {
      "text/plain": [
       "13"
      ]
     },
     "execution_count": 9,
     "metadata": {},
     "output_type": "execute_result"
    }
   ],
   "source": [
    "//remove keys\n",
    "applyUpdate(removeFromMapAW(m_key, x_key, y_key))\n",
    "readFromMap(m_key, x_key)\n",
    "readFromMap(m_key, z_key)"
   ]
  },
  {
   "cell_type": "code",
   "execution_count": null,
   "metadata": {
    "collapsed": true
   },
   "outputs": [],
   "source": []
  }
 ],
 "metadata": {
  "kernelspec": {
   "display_name": "Antidote",
   "language": "groovy",
   "name": "antidote"
  },
  "language_info": {
   "codemirror_mode": "",
   "file_extension": ".lsd",
   "mimetype": "",
   "name": "Antidote",
   "nbconverter_exporter": "",
   "pygments_lexer": "",
   "version": "0.1.0"
  }
 },
 "nbformat": 4,
 "nbformat_minor": 2
}
